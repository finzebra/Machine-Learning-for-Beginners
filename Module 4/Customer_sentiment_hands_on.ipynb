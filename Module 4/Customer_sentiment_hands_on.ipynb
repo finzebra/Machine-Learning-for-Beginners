{
  "nbformat": 4,
  "nbformat_minor": 0,
  "metadata": {
    "colab": {
      "provenance": []
    },
    "kernelspec": {
      "name": "python3",
      "display_name": "Python 3"
    },
    "language_info": {
      "name": "python"
    }
  },
  "cells": [
    {
      "cell_type": "code",
      "execution_count": 1,
      "metadata": {
        "colab": {
          "base_uri": "https://localhost:8080/"
        },
        "id": "Cj_oxIn9QOPi",
        "outputId": "5444d3d5-f7f8-4ce5-b9b0-3ec1b4f03a7a"
      },
      "outputs": [
        {
          "output_type": "stream",
          "name": "stdout",
          "text": [
            "Requirement already satisfied: textblob in /usr/local/lib/python3.11/dist-packages (0.19.0)\n",
            "Requirement already satisfied: nltk>=3.9 in /usr/local/lib/python3.11/dist-packages (from textblob) (3.9.1)\n",
            "Requirement already satisfied: click in /usr/local/lib/python3.11/dist-packages (from nltk>=3.9->textblob) (8.1.8)\n",
            "Requirement already satisfied: joblib in /usr/local/lib/python3.11/dist-packages (from nltk>=3.9->textblob) (1.4.2)\n",
            "Requirement already satisfied: regex>=2021.8.3 in /usr/local/lib/python3.11/dist-packages (from nltk>=3.9->textblob) (2024.11.6)\n",
            "Requirement already satisfied: tqdm in /usr/local/lib/python3.11/dist-packages (from nltk>=3.9->textblob) (4.67.1)\n",
            "[nltk_data] Downloading package brown to /root/nltk_data...\n",
            "[nltk_data]   Unzipping corpora/brown.zip.\n",
            "[nltk_data] Downloading package punkt_tab to /root/nltk_data...\n",
            "[nltk_data]   Unzipping tokenizers/punkt_tab.zip.\n",
            "[nltk_data] Downloading package wordnet to /root/nltk_data...\n",
            "[nltk_data] Downloading package averaged_perceptron_tagger_eng to\n",
            "[nltk_data]     /root/nltk_data...\n",
            "[nltk_data]   Unzipping taggers/averaged_perceptron_tagger_eng.zip.\n",
            "[nltk_data] Downloading package conll2000 to /root/nltk_data...\n",
            "[nltk_data]   Unzipping corpora/conll2000.zip.\n",
            "[nltk_data] Downloading package movie_reviews to /root/nltk_data...\n",
            "[nltk_data]   Unzipping corpora/movie_reviews.zip.\n",
            "Finished.\n"
          ]
        }
      ],
      "source": [
        "!pip install textblob\n",
        "!python -m textblob.download_corpora"
      ]
    },
    {
      "cell_type": "code",
      "source": [
        "from textblob import TextBlob\n",
        "\n",
        "# Sample sentences\n",
        "texts = [\n",
        "    \"I love this product!\",\n",
        "    \"It's okay, not the best.\",\n",
        "    \"This is terrible. I hate it!\",\n",
        "    \"Absolutely amazing performance.\",\n",
        "    \"Worst service ever. I'm disappointed.\"\n",
        "]\n",
        "\n",
        "# Analyze each sentence\n",
        "for sentence in texts:\n",
        "    blob = TextBlob(sentence)\n",
        "    sentiment = blob.sentiment\n",
        "    print(f\"Text: {sentence}\")\n",
        "    print(f\"Polarity: {sentiment.polarity}, Subjectivity: {sentiment.subjectivity}\")\n",
        "\n",
        "    if sentiment.polarity > 0:\n",
        "        print(\"Sentiment: Positive\\n\")\n",
        "    elif sentiment.polarity < 0:\n",
        "        print(\"Sentiment: Negative\\n\")\n",
        "    else:\n",
        "        print(\"Sentiment: Neutral\\n\")"
      ],
      "metadata": {
        "colab": {
          "base_uri": "https://localhost:8080/"
        },
        "id": "WU9XXlKcQRZ6",
        "outputId": "67ea17fe-a89a-44db-afd9-c21e37e5b640"
      },
      "execution_count": 2,
      "outputs": [
        {
          "output_type": "stream",
          "name": "stdout",
          "text": [
            "Text: I love this product!\n",
            "Polarity: 0.625, Subjectivity: 0.6\n",
            "Sentiment: Positive\n",
            "\n",
            "Text: It's okay, not the best.\n",
            "Polarity: 0.75, Subjectivity: 0.4\n",
            "Sentiment: Positive\n",
            "\n",
            "Text: This is terrible. I hate it!\n",
            "Polarity: -1.0, Subjectivity: 0.95\n",
            "Sentiment: Negative\n",
            "\n",
            "Text: Absolutely amazing performance.\n",
            "Polarity: 0.6000000000000001, Subjectivity: 0.9\n",
            "Sentiment: Positive\n",
            "\n",
            "Text: Worst service ever. I'm disappointed.\n",
            "Polarity: -0.875, Subjectivity: 0.875\n",
            "Sentiment: Negative\n",
            "\n"
          ]
        }
      ]
    }
  ]
}